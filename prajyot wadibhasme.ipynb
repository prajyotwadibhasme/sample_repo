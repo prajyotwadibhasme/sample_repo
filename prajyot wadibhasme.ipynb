{
 "cells": [
  {
   "cell_type": "markdown",
   "id": "9c95be9c",
   "metadata": {},
   "source": [
    "### printing Hello World"
   ]
  },
  {
   "cell_type": "markdown",
   "id": "704fcea7",
   "metadata": {},
   "source": [
    "#### printing hello world"
   ]
  },
  {
   "cell_type": "markdown",
   "id": "4d7b72be",
   "metadata": {},
   "source": [
    "##### PRINTING HELLO WORLD"
   ]
  },
  {
   "cell_type": "markdown",
   "id": "eaf070f8",
   "metadata": {},
   "source": [
    "###### Printing Hello World"
   ]
  },
  {
   "cell_type": "markdown",
   "id": "3926e517",
   "metadata": {},
   "source": [
    "####### Printing Hello World"
   ]
  },
  {
   "cell_type": "markdown",
   "id": "bc467adb",
   "metadata": {},
   "source": [
    "## Printing Hello World"
   ]
  },
  {
   "cell_type": "markdown",
   "id": "a35189a1",
   "metadata": {},
   "source": [
    "# Printing Hello World"
   ]
  },
  {
   "cell_type": "code",
   "execution_count": 1,
   "id": "d57e5cb4",
   "metadata": {},
   "outputs": [
    {
     "name": "stdout",
     "output_type": "stream",
     "text": [
      "Hello World\n"
     ]
    }
   ],
   "source": [
    "print(\"Hello World\")"
   ]
  },
  {
   "cell_type": "code",
   "execution_count": 8,
   "id": "e09a98ca",
   "metadata": {},
   "outputs": [
    {
     "name": "stdout",
     "output_type": "stream",
     "text": [
      "prajyot\n"
     ]
    }
   ],
   "source": [
    "### print your name\n",
    "print(\"prajyot\")"
   ]
  },
  {
   "cell_type": "code",
   "execution_count": 9,
   "id": "82e40bd9",
   "metadata": {},
   "outputs": [],
   "source": [
    "### Datatype"
   ]
  },
  {
   "cell_type": "markdown",
   "id": "138cdabb",
   "metadata": {},
   "source": [
    "x=100"
   ]
  },
  {
   "cell_type": "markdown",
   "id": "33d652ab",
   "metadata": {},
   "source": [
    "# z=\"True\"\n",
    "type(z)"
   ]
  },
  {
   "cell_type": "code",
   "execution_count": 14,
   "id": "e091fc14",
   "metadata": {},
   "outputs": [
    {
     "name": "stdout",
     "output_type": "stream",
     "text": [
      "<class 'str'>\n",
      "ai\n"
     ]
    }
   ],
   "source": [
    "course=\"ai\"\n",
    "\n",
    "print(type(course))\n",
    "print(course)"
   ]
  },
  {
   "cell_type": "code",
   "execution_count": 15,
   "id": "8240a8c3",
   "metadata": {},
   "outputs": [
    {
     "data": {
      "text/plain": [
       "100"
      ]
     },
     "execution_count": 15,
     "metadata": {},
     "output_type": "execute_result"
    }
   ],
   "source": [
    "x=100\n",
    "x"
   ]
  },
  {
   "cell_type": "code",
   "execution_count": 16,
   "id": "a1e67e28",
   "metadata": {},
   "outputs": [
    {
     "name": "stdout",
     "output_type": "stream",
     "text": [
      "100\n"
     ]
    }
   ],
   "source": [
    "print(x)"
   ]
  },
  {
   "cell_type": "code",
   "execution_count": 17,
   "id": "35d317f7",
   "metadata": {},
   "outputs": [
    {
     "data": {
      "text/plain": [
       "float"
      ]
     },
     "execution_count": 17,
     "metadata": {},
     "output_type": "execute_result"
    }
   ],
   "source": [
    "x=10.6\n",
    "type(x)"
   ]
  },
  {
   "cell_type": "code",
   "execution_count": 18,
   "id": "e0a35382",
   "metadata": {},
   "outputs": [
    {
     "data": {
      "text/plain": [
       "str"
      ]
     },
     "execution_count": 18,
     "metadata": {},
     "output_type": "execute_result"
    }
   ],
   "source": [
    "y=\"latha\"\n",
    "type(z)"
   ]
  },
  {
   "cell_type": "code",
   "execution_count": 19,
   "id": "51625d56",
   "metadata": {},
   "outputs": [
    {
     "data": {
      "text/plain": [
       "bool"
      ]
     },
     "execution_count": 19,
     "metadata": {},
     "output_type": "execute_result"
    }
   ],
   "source": [
    "z=True\n",
    "type(z)"
   ]
  },
  {
   "cell_type": "code",
   "execution_count": 20,
   "id": "5a6f6ec3",
   "metadata": {},
   "outputs": [
    {
     "ename": "NameError",
     "evalue": "name 'true' is not defined",
     "output_type": "error",
     "traceback": [
      "\u001b[1;31m---------------------------------------------------------------------------\u001b[0m",
      "\u001b[1;31mNameError\u001b[0m                                 Traceback (most recent call last)",
      "Cell \u001b[1;32mIn[20], line 1\u001b[0m\n\u001b[1;32m----> 1\u001b[0m z\u001b[38;5;241m=\u001b[39m\u001b[43mtrue\u001b[49m\n\u001b[0;32m      2\u001b[0m \u001b[38;5;28mtype\u001b[39m(z)\n",
      "\u001b[1;31mNameError\u001b[0m: name 'true' is not defined"
     ]
    }
   ],
   "source": [
    "z=true\n",
    "type(z)"
   ]
  },
  {
   "cell_type": "code",
   "execution_count": 21,
   "id": "4925622b",
   "metadata": {},
   "outputs": [
    {
     "data": {
      "text/plain": [
       "str"
      ]
     },
     "execution_count": 21,
     "metadata": {},
     "output_type": "execute_result"
    }
   ],
   "source": [
    "z=\"True\"\n",
    "type(z)"
   ]
  },
  {
   "cell_type": "code",
   "execution_count": 22,
   "id": "d62ed823",
   "metadata": {},
   "outputs": [
    {
     "data": {
      "text/plain": [
       "str"
      ]
     },
     "execution_count": 22,
     "metadata": {},
     "output_type": "execute_result"
    }
   ],
   "source": [
    "z=\"fa;se\"\n",
    "type(z)"
   ]
  },
  {
   "cell_type": "code",
   "execution_count": 23,
   "id": "8648d55e",
   "metadata": {},
   "outputs": [
    {
     "name": "stdout",
     "output_type": "stream",
     "text": [
      "<class 'str'>\n",
      "ai\n"
     ]
    }
   ],
   "source": [
    "course=\"ai\"\n",
    "\n",
    "print(type(course))\n",
    "print(course)"
   ]
  },
  {
   "cell_type": "code",
   "execution_count": 24,
   "id": "9387a624",
   "metadata": {},
   "outputs": [
    {
     "data": {
      "text/plain": [
       "(str, 'ai')"
      ]
     },
     "execution_count": 24,
     "metadata": {},
     "output_type": "execute_result"
    }
   ],
   "source": [
    "type(course),course"
   ]
  },
  {
   "cell_type": "markdown",
   "id": "4eadb648",
   "metadata": {},
   "source": [
    "### Rules for naming variable"
   ]
  },
  {
   "cell_type": "code",
   "execution_count": 31,
   "id": "fdce565b",
   "metadata": {},
   "outputs": [
    {
     "ename": "SyntaxError",
     "evalue": "invalid syntax (1679501636.py, line 1)",
     "output_type": "error",
     "traceback": [
      "\u001b[1;36m  Cell \u001b[1;32mIn[31], line 1\u001b[1;36m\u001b[0m\n\u001b[1;33m    book name=[\"Python\",\"ai\",\"ds\"]\u001b[0m\n\u001b[1;37m         ^\u001b[0m\n\u001b[1;31mSyntaxError\u001b[0m\u001b[1;31m:\u001b[0m invalid syntax\n"
     ]
    }
   ],
   "source": [
    "book name=[\"Python\",\"ai\",\"ds\"]\n",
    "book name"
   ]
  },
  {
   "cell_type": "code",
   "execution_count": 32,
   "id": "1cba5d85",
   "metadata": {},
   "outputs": [
    {
     "ename": "SyntaxError",
     "evalue": "cannot assign to expression here. Maybe you meant '==' instead of '='? (475867569.py, line 1)",
     "output_type": "error",
     "traceback": [
      "\u001b[1;36m  Cell \u001b[1;32mIn[32], line 1\u001b[1;36m\u001b[0m\n\u001b[1;33m    book+name=[\"Python\",\"ai\",\"ds\"]\u001b[0m\n\u001b[1;37m    ^\u001b[0m\n\u001b[1;31mSyntaxError\u001b[0m\u001b[1;31m:\u001b[0m cannot assign to expression here. Maybe you meant '==' instead of '='?\n"
     ]
    }
   ],
   "source": [
    "book+name=[\"Python\",\"ai\",\"ds\"]\n",
    "book+name"
   ]
  },
  {
   "cell_type": "code",
   "execution_count": 33,
   "id": "439887c9",
   "metadata": {},
   "outputs": [
    {
     "data": {
      "text/plain": [
       "['Python', 'ai', 'ds']"
      ]
     },
     "execution_count": 33,
     "metadata": {},
     "output_type": "execute_result"
    }
   ],
   "source": [
    "book_name=[\"Python\",\"ai\",\"ds\"]\n",
    "book_name"
   ]
  },
  {
   "cell_type": "code",
   "execution_count": 28,
   "id": "4e03aca8",
   "metadata": {},
   "outputs": [
    {
     "data": {
      "text/plain": [
       "['Python', 'ai', 'ds']"
      ]
     },
     "execution_count": 28,
     "metadata": {},
     "output_type": "execute_result"
    }
   ],
   "source": [
    "b3ookname=[\"Python\",\"ai\",\"ds\"]\n",
    "b3ookname"
   ]
  },
  {
   "cell_type": "markdown",
   "id": "ed0ceaf0",
   "metadata": {},
   "source": [
    "##### Space is not allowed\n",
    "##### Only allowed spl chracter is underscore\n",
    "##### Variable name should not start with a number\n",
    "##### Variable name should start with A-Z,a-z or underscore\n"
   ]
  },
  {
   "cell_type": "markdown",
   "id": "9f05624e",
   "metadata": {},
   "source": [
    "## Data Structure"
   ]
  },
  {
   "cell_type": "markdown",
   "id": "e7679803",
   "metadata": {},
   "source": [
    "##### square brackets\n",
    "##### We can retrieve elements using index and index start from 0\n",
    "##### Mutable->we can make the changes"
   ]
  },
  {
   "cell_type": "code",
   "execution_count": 1,
   "id": "ddad9568",
   "metadata": {},
   "outputs": [
    {
     "data": {
      "text/plain": [
       "[10, 2, 3, 4, 5, 1, 'hi']"
      ]
     },
     "execution_count": 1,
     "metadata": {},
     "output_type": "execute_result"
    }
   ],
   "source": [
    "sample_list=[10,2,3,4,5,1,\"hi\"]\n",
    "sample_list"
   ]
  },
  {
   "cell_type": "code",
   "execution_count": 2,
   "id": "1cf79502",
   "metadata": {},
   "outputs": [
    {
     "data": {
      "text/plain": [
       "list"
      ]
     },
     "execution_count": 2,
     "metadata": {},
     "output_type": "execute_result"
    }
   ],
   "source": [
    "type(sample_list)"
   ]
  },
  {
   "cell_type": "code",
   "execution_count": 3,
   "id": "ca5d74bb",
   "metadata": {},
   "outputs": [
    {
     "data": {
      "text/plain": [
       "4"
      ]
     },
     "execution_count": 3,
     "metadata": {},
     "output_type": "execute_result"
    }
   ],
   "source": [
    "sample_list[3]"
   ]
  },
  {
   "cell_type": "code",
   "execution_count": 4,
   "id": "c589898d",
   "metadata": {},
   "outputs": [
    {
     "ename": "IndexError",
     "evalue": "list index out of range",
     "output_type": "error",
     "traceback": [
      "\u001b[1;31m---------------------------------------------------------------------------\u001b[0m",
      "\u001b[1;31mIndexError\u001b[0m                                Traceback (most recent call last)",
      "Cell \u001b[1;32mIn[4], line 1\u001b[0m\n\u001b[1;32m----> 1\u001b[0m \u001b[43msample_list\u001b[49m\u001b[43m[\u001b[49m\u001b[38;5;241;43m10\u001b[39;49m\u001b[43m]\u001b[49m\n",
      "\u001b[1;31mIndexError\u001b[0m: list index out of range"
     ]
    }
   ],
   "source": [
    "sample_list[10]"
   ]
  },
  {
   "cell_type": "code",
   "execution_count": 10,
   "id": "8a9f90c3",
   "metadata": {
    "scrolled": true
   },
   "outputs": [
    {
     "ename": "NameError",
     "evalue": "name 'sample_tuple' is not defined",
     "output_type": "error",
     "traceback": [
      "\u001b[1;31m---------------------------------------------------------------------------\u001b[0m",
      "\u001b[1;31mNameError\u001b[0m                                 Traceback (most recent call last)",
      "Cell \u001b[1;32mIn[10], line 1\u001b[0m\n\u001b[1;32m----> 1\u001b[0m \u001b[43msample_tuple\u001b[49m[\u001b[38;5;241m0\u001b[39m]\u001b[38;5;241m=\u001b[39m\u001b[38;5;241m100\u001b[39m\n\u001b[0;32m      2\u001b[0m sample_tuple\n",
      "\u001b[1;31mNameError\u001b[0m: name 'sample_tuple' is not defined"
     ]
    }
   ],
   "source": [
    "sample_tuple[0]=100\n",
    "sample_tuple"
   ]
  },
  {
   "cell_type": "code",
   "execution_count": 9,
   "id": "9fa8dcb6",
   "metadata": {},
   "outputs": [
    {
     "ename": "NameError",
     "evalue": "name 'sample_tuple' is not defined",
     "output_type": "error",
     "traceback": [
      "\u001b[1;31m---------------------------------------------------------------------------\u001b[0m",
      "\u001b[1;31mNameError\u001b[0m                                 Traceback (most recent call last)",
      "Cell \u001b[1;32mIn[9], line 1\u001b[0m\n\u001b[1;32m----> 1\u001b[0m \u001b[43msample_tuple\u001b[49m[\u001b[38;5;241m0\u001b[39m]\n",
      "\u001b[1;31mNameError\u001b[0m: name 'sample_tuple' is not defined"
     ]
    }
   ],
   "source": [
    "sample_tuple[0]"
   ]
  },
  {
   "cell_type": "markdown",
   "id": "75df259a",
   "metadata": {},
   "source": [
    "##### paranthesis\n",
    "##### we can retieve elements using index and index start from 0\n",
    "##### Immutable->we cannot make the changes\n"
   ]
  },
  {
   "cell_type": "markdown",
   "id": "69d72534",
   "metadata": {},
   "source": [
    "###### {}\n",
    "###### Duplicates are not allowed\n",
    "###### arranged according to first place\n",
    "###### connot access using index\n",
    "###### set is mutable "
   ]
  },
  {
   "cell_type": "code",
   "execution_count": 12,
   "id": "0c40f2c8",
   "metadata": {},
   "outputs": [
    {
     "data": {
      "text/plain": [
       "{1, 10, 2, 23.5, 3, 34, 4, 'apple', 'hi'}"
      ]
     },
     "execution_count": 12,
     "metadata": {},
     "output_type": "execute_result"
    }
   ],
   "source": [
    "sample_set={1,2,3,4,10,34,23.5,\"hi\",2,\"apple\"}\n",
    "sample_set"
   ]
  },
  {
   "cell_type": "code",
   "execution_count": 13,
   "id": "20d7df8a",
   "metadata": {},
   "outputs": [
    {
     "ename": "TypeError",
     "evalue": "'set' object is not subscriptable",
     "output_type": "error",
     "traceback": [
      "\u001b[1;31m---------------------------------------------------------------------------\u001b[0m",
      "\u001b[1;31mTypeError\u001b[0m                                 Traceback (most recent call last)",
      "Cell \u001b[1;32mIn[13], line 1\u001b[0m\n\u001b[1;32m----> 1\u001b[0m \u001b[43msample_set\u001b[49m\u001b[43m[\u001b[49m\u001b[38;5;241;43m0\u001b[39;49m\u001b[43m]\u001b[49m\n",
      "\u001b[1;31mTypeError\u001b[0m: 'set' object is not subscriptable"
     ]
    }
   ],
   "source": [
    "sample_set[0]"
   ]
  },
  {
   "cell_type": "markdown",
   "id": "f296552f",
   "metadata": {},
   "source": [
    "sample[0]=100"
   ]
  },
  {
   "cell_type": "code",
   "execution_count": 15,
   "id": "43b09376",
   "metadata": {},
   "outputs": [],
   "source": [
    "sample_set.add(100)"
   ]
  },
  {
   "cell_type": "code",
   "execution_count": 16,
   "id": "cfb1628f",
   "metadata": {},
   "outputs": [
    {
     "data": {
      "text/plain": [
       "{1, 10, 100, 2, 23.5, 3, 34, 4, 'apple', 'hi'}"
      ]
     },
     "execution_count": 16,
     "metadata": {},
     "output_type": "execute_result"
    }
   ],
   "source": [
    "sample_set"
   ]
  },
  {
   "cell_type": "code",
   "execution_count": 18,
   "id": "35b48c43",
   "metadata": {},
   "outputs": [],
   "source": [
    "sample_set.remove(\"hi\")"
   ]
  },
  {
   "cell_type": "code",
   "execution_count": 19,
   "id": "cc7c15e4",
   "metadata": {},
   "outputs": [
    {
     "data": {
      "text/plain": [
       "{1, 10, 100, 2, 23.5, 3, 34, 4, 'apple'}"
      ]
     },
     "execution_count": 19,
     "metadata": {},
     "output_type": "execute_result"
    }
   ],
   "source": [
    "sample_set"
   ]
  },
  {
   "cell_type": "markdown",
   "id": "10433b79",
   "metadata": {},
   "source": [
    "## Dictionary\n",
    "###### Has key-value pair data structure\n",
    "###### Value can be duplicated\n",
    "###### Vlaue can be retrieved using key\n",
    "###### Key cannot be retrieved using value\n"
   ]
  },
  {
   "cell_type": "code",
   "execution_count": 2,
   "id": "3a962411",
   "metadata": {
    "scrolled": true
   },
   "outputs": [
    {
     "data": {
      "text/plain": [
       "{1: 'apple', 2: 'every', 3: 'data', 6: 35.4, 7: 35, 4.2: 'hi'}"
      ]
     },
     "execution_count": 2,
     "metadata": {},
     "output_type": "execute_result"
    }
   ],
   "source": [
    "sample_dict={1:\"apple\",2:35.4,3:\"data\",2:\"every\",6:35.4,7:35,4.2:\"hi\"}\n",
    "sample_dict"
   ]
  },
  {
   "cell_type": "markdown",
   "id": "c2d9808b",
   "metadata": {},
   "source": [
    "sample_dict[3]"
   ]
  },
  {
   "cell_type": "code",
   "execution_count": 3,
   "id": "b3713ac4",
   "metadata": {},
   "outputs": [],
   "source": [
    "sample_dict[7]=100"
   ]
  },
  {
   "cell_type": "code",
   "execution_count": 4,
   "id": "2ba5630a",
   "metadata": {},
   "outputs": [
    {
     "data": {
      "text/plain": [
       "{1: 'apple', 2: 'every', 3: 'data', 6: 35.4, 7: 100, 4.2: 'hi'}"
      ]
     },
     "execution_count": 4,
     "metadata": {},
     "output_type": "execute_result"
    }
   ],
   "source": [
    "sample_dict"
   ]
  },
  {
   "cell_type": "code",
   "execution_count": null,
   "id": "559a6078",
   "metadata": {},
   "outputs": [],
   "source": []
  }
 ],
 "metadata": {
  "kernelspec": {
   "display_name": "Python 3 (ipykernel)",
   "language": "python",
   "name": "python3"
  },
  "language_info": {
   "codemirror_mode": {
    "name": "ipython",
    "version": 3
   },
   "file_extension": ".py",
   "mimetype": "text/x-python",
   "name": "python",
   "nbconvert_exporter": "python",
   "pygments_lexer": "ipython3",
   "version": "3.10.9"
  }
 },
 "nbformat": 4,
 "nbformat_minor": 5
}
